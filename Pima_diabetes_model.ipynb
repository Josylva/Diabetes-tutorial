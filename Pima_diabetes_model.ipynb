{
 "cells": [
  {
   "cell_type": "code",
   "execution_count": 2,
   "id": "2dcf050d-4b90-4c82-82a0-2c60b39d0a15",
   "metadata": {},
   "outputs": [
    {
     "name": "stdout",
     "output_type": "stream",
     "text": [
      "     Pregnancies  Glucose  BloodPressure  SkinThickness  Insulin   BMI  \\\n",
      "0              6      148             72             35        0  33.6   \n",
      "1              1       85             66             29        0  26.6   \n",
      "2              8      183             64              0        0  23.3   \n",
      "3              1       89             66             23       94  28.1   \n",
      "4              0      137             40             35      168  43.1   \n",
      "..           ...      ...            ...            ...      ...   ...   \n",
      "763           10      101             76             48      180  32.9   \n",
      "764            2      122             70             27        0  36.8   \n",
      "765            5      121             72             23      112  26.2   \n",
      "766            1      126             60              0        0  30.1   \n",
      "767            1       93             70             31        0  30.4   \n",
      "\n",
      "     DiabetesPedigreeFunction  Age  Outcome  \n",
      "0                       0.627   50        1  \n",
      "1                       0.351   31        0  \n",
      "2                       0.672   32        1  \n",
      "3                       0.167   21        0  \n",
      "4                       2.288   33        1  \n",
      "..                        ...  ...      ...  \n",
      "763                     0.171   63        0  \n",
      "764                     0.340   27        0  \n",
      "765                     0.245   30        0  \n",
      "766                     0.349   47        1  \n",
      "767                     0.315   23        0  \n",
      "\n",
      "[768 rows x 9 columns]\n"
     ]
    }
   ],
   "source": [
    "import pandas as pd\n",
    "df = pd.read_csv('Pima diabetes dataset/diabetes.csv')\n",
    "print(df)"
   ]
  },
  {
   "cell_type": "code",
   "execution_count": 22,
   "id": "ef939a36-276c-462b-8ca6-1391a63755cc",
   "metadata": {},
   "outputs": [
    {
     "data": {
      "text/html": [
       "<div>\n",
       "<style scoped>\n",
       "    .dataframe tbody tr th:only-of-type {\n",
       "        vertical-align: middle;\n",
       "    }\n",
       "\n",
       "    .dataframe tbody tr th {\n",
       "        vertical-align: top;\n",
       "    }\n",
       "\n",
       "    .dataframe thead th {\n",
       "        text-align: right;\n",
       "    }\n",
       "</style>\n",
       "<table border=\"1\" class=\"dataframe\">\n",
       "  <thead>\n",
       "    <tr style=\"text-align: right;\">\n",
       "      <th></th>\n",
       "      <th>BloodPressure</th>\n",
       "      <th>SkinThickness</th>\n",
       "      <th>Insulin</th>\n",
       "      <th>BMI</th>\n",
       "      <th>DiabetesPedigreeFunction</th>\n",
       "      <th>Outcome</th>\n",
       "    </tr>\n",
       "  </thead>\n",
       "  <tbody>\n",
       "    <tr>\n",
       "      <th>0</th>\n",
       "      <td>72</td>\n",
       "      <td>35</td>\n",
       "      <td>0</td>\n",
       "      <td>33.6</td>\n",
       "      <td>0.627</td>\n",
       "      <td>1</td>\n",
       "    </tr>\n",
       "    <tr>\n",
       "      <th>1</th>\n",
       "      <td>66</td>\n",
       "      <td>29</td>\n",
       "      <td>0</td>\n",
       "      <td>26.6</td>\n",
       "      <td>0.351</td>\n",
       "      <td>0</td>\n",
       "    </tr>\n",
       "    <tr>\n",
       "      <th>2</th>\n",
       "      <td>64</td>\n",
       "      <td>0</td>\n",
       "      <td>0</td>\n",
       "      <td>23.3</td>\n",
       "      <td>0.672</td>\n",
       "      <td>1</td>\n",
       "    </tr>\n",
       "    <tr>\n",
       "      <th>3</th>\n",
       "      <td>66</td>\n",
       "      <td>23</td>\n",
       "      <td>94</td>\n",
       "      <td>28.1</td>\n",
       "      <td>0.167</td>\n",
       "      <td>0</td>\n",
       "    </tr>\n",
       "    <tr>\n",
       "      <th>4</th>\n",
       "      <td>40</td>\n",
       "      <td>35</td>\n",
       "      <td>168</td>\n",
       "      <td>43.1</td>\n",
       "      <td>2.288</td>\n",
       "      <td>1</td>\n",
       "    </tr>\n",
       "  </tbody>\n",
       "</table>\n",
       "</div>"
      ],
      "text/plain": [
       "   BloodPressure  SkinThickness  Insulin   BMI  DiabetesPedigreeFunction  \\\n",
       "0             72             35        0  33.6                     0.627   \n",
       "1             66             29        0  26.6                     0.351   \n",
       "2             64              0        0  23.3                     0.672   \n",
       "3             66             23       94  28.1                     0.167   \n",
       "4             40             35      168  43.1                     2.288   \n",
       "\n",
       "   Outcome  \n",
       "0        1  \n",
       "1        0  \n",
       "2        1  \n",
       "3        0  \n",
       "4        1  "
      ]
     },
     "execution_count": 22,
     "metadata": {},
     "output_type": "execute_result"
    }
   ],
   "source": [
    "df.head(5)"
   ]
  },
  {
   "cell_type": "code",
   "execution_count": 29,
   "id": "c66f7b09-1a0f-4bc3-a5ba-6c96c29cc0a3",
   "metadata": {},
   "outputs": [
    {
     "name": "stdout",
     "output_type": "stream",
     "text": [
      "(514, 5)\n",
      "(254, 5)\n"
     ]
    }
   ],
   "source": [
    "X = df.drop(\"BloodPressure\", axis = 1)\n",
    "y = df[[\"BloodPressure\"]]\n",
    "from sklearn.model_selection import train_test_split\n",
    "X_train, X_test, y_train, y_test = train_test_split(X, y, test_size=0.33, random_state=42)\n",
    "print(X_train.shape)\n",
    "print(X_test.shape)"
   ]
  },
  {
   "cell_type": "code",
   "execution_count": 30,
   "id": "2a7dc49b-217f-47ea-883c-e12a12b21f7f",
   "metadata": {},
   "outputs": [
    {
     "name": "stdout",
     "output_type": "stream",
     "text": [
      "[ 70  78   0   0   0  70  70   0  70   0  78  78  70  70  68  64  78  70\n",
      "   0  70   0  70  78  70  70  78  78  70  70  70  68   0  70   0   0  70\n",
      "  85  78  78   0  70   0  78   0   0  70  64  78   0  70  78  70  70   0\n",
      "  70  68   0   0  70   0  78  78  82  82  70  78  78   0   0  70  70  78\n",
      "   0  80   0  78   0  64  70   0   0  68  70  64  70  70  78  70  78  70\n",
      "  70   0   0   0  70  78   0  70  70   0  64  68   0  70   0  70  64  70\n",
      "  70  78  78   0   0  70  70  78  78   0   0   0   0  68  78  70   0  64\n",
      "  72  70   0  78   0  70  70  64  70   0   0   0  70  80  78   0   0  70\n",
      "   0  78  78  80  78   0  68   0  70  68   0  78  70   0  70  70   0  70\n",
      "  64   0  68   0  70  70  70   0   0  70   0  70  70  70  70  64  70   0\n",
      "  70  70   0  78  70  68  70  70   0  64  70   0  78  70  78  70 100  70\n",
      "  70  70   0  64  78  70   0  70  68  78  70  68  70   0  68   0  70  70\n",
      "  70   0   0   0  70  70  70  70   0   0   0  64  70  68  68  70  70  70\n",
      "  70  70  70   0  70   0   0  78   0   0  78   0  70  70   0  70  70  68\n",
      "   0  70]\n"
     ]
    },
    {
     "name": "stderr",
     "output_type": "stream",
     "text": [
      "C:\\Users\\USER\\Anaconda\\anaconda3\\lib\\site-packages\\sklearn\\utils\\validation.py:1183: DataConversionWarning: A column-vector y was passed when a 1d array was expected. Please change the shape of y to (n_samples, ), for example using ravel().\n",
      "  y = column_or_1d(y, warn=True)\n",
      "C:\\Users\\USER\\Anaconda\\anaconda3\\lib\\site-packages\\sklearn\\linear_model\\_logistic.py:460: ConvergenceWarning: lbfgs failed to converge (status=1):\n",
      "STOP: TOTAL NO. of ITERATIONS REACHED LIMIT.\n",
      "\n",
      "Increase the number of iterations (max_iter) or scale the data as shown in:\n",
      "    https://scikit-learn.org/stable/modules/preprocessing.html\n",
      "Please also refer to the documentation for alternative solver options:\n",
      "    https://scikit-learn.org/stable/modules/linear_model.html#logistic-regression\n",
      "  n_iter_i = _check_optimize_result(\n"
     ]
    }
   ],
   "source": [
    "from sklearn.linear_model import LogisticRegression\n",
    "lr = LogisticRegression()\n",
    "model = lr.fit(X_train,y_train)\n",
    "y_pred = lr.predict(X_test)\n",
    "print(y_pred)"
   ]
  },
  {
   "cell_type": "code",
   "execution_count": 31,
   "id": "69345344-1f74-4d6f-b2d5-b1db388adb22",
   "metadata": {},
   "outputs": [],
   "source": [
    "from sklearn.metrics import accuracy_score"
   ]
  },
  {
   "cell_type": "code",
   "execution_count": 32,
   "id": "f22b5dff-f861-420c-bace-752c07c13cb6",
   "metadata": {},
   "outputs": [
    {
     "name": "stdout",
     "output_type": "stream",
     "text": [
      "0.10236220472440945\n"
     ]
    }
   ],
   "source": [
    "print(accuracy_score(y_pred,y_test))"
   ]
  },
  {
   "cell_type": "code",
   "execution_count": 33,
   "id": "f39a00d5-8245-46f5-b6c7-359c7c5cd88d",
   "metadata": {},
   "outputs": [],
   "source": [
    "import pickle\n",
    "Model = pickle.dumps(model)"
   ]
  },
  {
   "cell_type": "code",
   "execution_count": 34,
   "id": "c140ce06-74b1-4eef-b17f-684678e31649",
   "metadata": {},
   "outputs": [
    {
     "data": {
      "text/plain": [
       "''"
      ]
     },
     "execution_count": 34,
     "metadata": {},
     "output_type": "execute_result"
    }
   ],
   "source": [
    "import tkinter as tk\n",
    "\n",
    "from tkinter import ttk\n",
    "\n",
    "win = tk.Tk()\n",
    "\n",
    "win.title('Diabetes Predictions') "
   ]
  },
  {
   "cell_type": "code",
   "execution_count": 35,
   "id": "10be2eae-c9d1-48f4-b7ed-db9c83dcd0a1",
   "metadata": {},
   "outputs": [],
   "source": [
    "#Column 1 \n",
    "Preg=ttk.Label(win,text=\"Preg\")\n",
    "Preg.grid(row=0,column=0,sticky=tk.W)\n",
    "Preg_var=tk.StringVar()\n",
    "Preg_entrybox=ttk.Entry(win,width=16,textvariable=Preg_var)\n",
    "Preg_entrybox.grid(row=0,column=1)\n",
    "#Column 2\n",
    "Plas=ttk.Label(win,text=\"Plas\")\n",
    "Plas.grid(row=1,column=0,sticky=tk.W)\n",
    "Plas_var=tk.StringVar()\n",
    "Plas_entrybox=ttk.Entry(win,width=16,textvariable=Plas_var)\n",
    "Plas_entrybox.grid(row=1,column=1)\n",
    "#Column 3\n",
    "Pres=ttk.Label(win,text=\"Pres\")\n",
    "Pres.grid(row=2,column=0,sticky=tk.W)\n",
    "Pres_var=tk.StringVar()\n",
    "Pres_entrybox=ttk.Entry(win,width=16,textvariable=Pres_var)\n",
    "Pres_entrybox.grid(row=2,column=1)\n",
    "#Column 4\n",
    "skin=ttk.Label(win,text=\"skin\")\n",
    "skin.grid(row=3,column=0,sticky=tk.W)\n",
    "skin_var=tk.StringVar()\n",
    "skin_entrybox=ttk.Entry(win,width=16,textvariable=skin_var)\n",
    "skin_entrybox.grid(row=3,column=1)\n",
    "#Column 5\n",
    "test=ttk.Label(win,text=\"test\")\n",
    "test.grid(row=4,column=0,sticky=tk.W)\n",
    "test_var=tk.StringVar()\n",
    "test_entrybox=ttk.Entry(win,width=16,textvariable=test_var)\n",
    "test_entrybox.grid(row=4,column=1)\n",
    "#Column 6\n",
    "mass=ttk.Label(win,text=\"mass\")\n",
    "mass.grid(row=5,column=0,sticky=tk.W)\n",
    "mass_var=tk.StringVar()\n",
    "mass_entrybox=ttk.Entry(win,width=16,textvariable=mass_var)\n",
    "mass_entrybox.grid(row=5,column=1)\n",
    "#Column 7\n",
    "pedi=ttk.Label(win,text=\"pedi\")\n",
    "pedi.grid(row=6,column=0,sticky=tk.W)\n",
    "pedi_var=tk.StringVar()\n",
    "pedi_entrybox=ttk.Entry(win,width=16,textvariable=pedi_var)\n",
    "pedi_entrybox.grid(row=6,column=1)\n",
    "#Column 8\n",
    "age=ttk.Label(win,text=\"age\")\n",
    "age.grid(row=7,column=0,sticky=tk.W)\n",
    "age_var=tk.StringVar()\n",
    "age_entrybox=ttk.Entry(win,width=16,textvariable=age_var)\n",
    "age_entrybox.grid(row=7,column=1)"
   ]
  },
  {
   "cell_type": "code",
   "execution_count": 36,
   "id": "b2f17357-c856-4ea7-9421-f966609d31e5",
   "metadata": {},
   "outputs": [
    {
     "name": "stdout",
     "output_type": "stream",
     "text": [
      "(0, 0)\n"
     ]
    }
   ],
   "source": [
    "import pandas as pd\n",
    "DF = pd.DataFrame()\n",
    "def action():\n",
    "    global DB\n",
    "    import pandas as pd\n",
    "    DF = pd.DataFrame(columns=['Preg','Plas','Pres','skin','test','mass','pedi','age'])\n",
    "    PREG=Preg_var.get()\n",
    "    DF.loc[0,'Preg']=PREG\n",
    "    PLAS=Plas_var.get()\n",
    "    DF.loc[0,'Plas']=PLAS\n",
    "    PRES=Pres_var.get()\n",
    "    DF.loc[0,'Pres']=PRES\n",
    "    SKIN=skin_var.get()\n",
    "    DF.loc[0,'skin']=SKIN\n",
    "    TEST=test_var.get()\n",
    "    DF.loc[0,'test']=TEST\n",
    "    MASS=mass_var.get()\n",
    "    DF.loc[0,'mass']=MASS\n",
    "    PEDI=pedi_var.get()\n",
    "    DF.loc[0,'pedi']=PEDI\n",
    "    AGE=age_var.get()\n",
    "    DF.loc[0,'age']=AGE\n",
    "print(DF.shape)\n",
    "DB=DF"
   ]
  },
  {
   "cell_type": "code",
   "execution_count": 64,
   "id": "6dee2613-923c-4e21-9cf5-a2617cd807b6",
   "metadata": {},
   "outputs": [],
   "source": [
    "def Output():\n",
    "    DB[\"Preg\"] = pd.to_numeric(DB[\"Preg\"])\n",
    "    DB[\"Plas\"] = pd.to_numeric(DB[\"Plas\"])\n",
    "    DB[\"Pres\"] = pd.to_numeric(DB[\"Pres\"])\n",
    "    DB[\"skin\"] = pd.to_numeric(DB[\"skin\"])\n",
    "    DB[\"test\"] = pd.to_numeric(DB[\"test\"])\n",
    "    DB[\"mass\"] = pd.to_numeric(DB[\"mass\"])\n",
    "    DB[\"pedi\"] = pd.to_numeric(DB[\"pedi\"])\n",
    "    DB[\"age\"] = pd.to_numeric(DB[\"age\"])"
   ]
  },
  {
   "cell_type": "code",
   "execution_count": 70,
   "id": "018d6934-6da6-4721-bd63-36b79d62e485",
   "metadata": {},
   "outputs": [
    {
     "ename": "AttributeError",
     "evalue": "'Label' object has no attribute 'reshape'",
     "output_type": "error",
     "traceback": [
      "\u001b[1;31m---------------------------------------------------------------------------\u001b[0m",
      "\u001b[1;31mAttributeError\u001b[0m                            Traceback (most recent call last)",
      "Cell \u001b[1;32mIn[70], line 1\u001b[0m\n\u001b[1;32m----> 1\u001b[0m output\u001b[38;5;241m=\u001b[39mmodel\u001b[38;5;241m.\u001b[39mpredict(Pres\u001b[38;5;241m=\u001b[39m\u001b[43mPres\u001b[49m\u001b[38;5;241;43m.\u001b[39;49m\u001b[43mreshape\u001b[49m(\u001b[38;5;241m1\u001b[39m, \u001b[38;5;241m-\u001b[39m\u001b[38;5;241m1\u001b[39m))\n\u001b[0;32m      2\u001b[0m \u001b[38;5;28;01mif\u001b[39;00m output\u001b[38;5;241m==\u001b[39m\u001b[38;5;241m1\u001b[39m:\n\u001b[0;32m      3\u001b[0m     result\u001b[38;5;241m=\u001b[39m\u001b[38;5;124m'\u001b[39m\u001b[38;5;124mDiabetic\u001b[39m\u001b[38;5;124m'\u001b[39m\n",
      "\u001b[1;31mAttributeError\u001b[0m: 'Label' object has no attribute 'reshape'"
     ]
    }
   ],
   "source": [
    "output=model.predict(Pres=Pres.reshape(1, -1))\n",
    "if output==1:\n",
    "    result='Diabetic'\n",
    "elif output==0:\n",
    "    result='Non-Diabetic'"
   ]
  },
  {
   "cell_type": "code",
   "execution_count": 74,
   "id": "6346760e-1639-4a44-ab4c-88444168a1d3",
   "metadata": {},
   "outputs": [
    {
     "name": "stderr",
     "output_type": "stream",
     "text": [
      "Exception in Tkinter callback\n",
      "Traceback (most recent call last):\n",
      "  File \"C:\\Users\\USER\\Anaconda\\anaconda3\\lib\\site-packages\\pandas\\core\\indexes\\base.py\", line 3802, in get_loc\n",
      "    return self._engine.get_loc(casted_key)\n",
      "  File \"pandas\\_libs\\index.pyx\", line 138, in pandas._libs.index.IndexEngine.get_loc\n",
      "  File \"pandas\\_libs\\index.pyx\", line 165, in pandas._libs.index.IndexEngine.get_loc\n",
      "  File \"pandas\\_libs\\hashtable_class_helper.pxi\", line 5745, in pandas._libs.hashtable.PyObjectHashTable.get_item\n",
      "  File \"pandas\\_libs\\hashtable_class_helper.pxi\", line 5753, in pandas._libs.hashtable.PyObjectHashTable.get_item\n",
      "KeyError: 'Preg'\n",
      "\n",
      "The above exception was the direct cause of the following exception:\n",
      "\n",
      "Traceback (most recent call last):\n",
      "  File \"C:\\Users\\USER\\Anaconda\\anaconda3\\lib\\tkinter\\__init__.py\", line 1921, in __call__\n",
      "    return self.func(*args)\n",
      "  File \"C:\\Users\\USER\\AppData\\Local\\Temp\\ipykernel_11600\\3993517670.py\", line 2, in Output\n",
      "    DB[\"Preg\"] = pd.to_numeric(DB[\"Preg\"])\n",
      "  File \"C:\\Users\\USER\\Anaconda\\anaconda3\\lib\\site-packages\\pandas\\core\\frame.py\", line 3807, in __getitem__\n",
      "    indexer = self.columns.get_loc(key)\n",
      "  File \"C:\\Users\\USER\\Anaconda\\anaconda3\\lib\\site-packages\\pandas\\core\\indexes\\base.py\", line 3804, in get_loc\n",
      "    raise KeyError(key) from err\n",
      "KeyError: 'Preg'\n"
     ]
    }
   ],
   "source": [
    "predict_entrybox=ttk.Entry(win,width=16)\n",
    "Predict_entrybox.grid(row=20,column=1)\n",
    "#Predict_entrybox.insert(1,str(result))\n",
    "Predict_button=ttk.Button(win,text=\"Predict\",command=Output)\n",
    "Predict_button.grid(row=20,column=0)\n",
    "win.mainloop()"
   ]
  },
  {
   "cell_type": "code",
   "execution_count": null,
   "id": "54e2e843-5928-4738-bc33-d90376edc3d5",
   "metadata": {},
   "outputs": [],
   "source": []
  }
 ],
 "metadata": {
  "kernelspec": {
   "display_name": "Python 3 (ipykernel)",
   "language": "python",
   "name": "python3"
  },
  "language_info": {
   "codemirror_mode": {
    "name": "ipython",
    "version": 3
   },
   "file_extension": ".py",
   "mimetype": "text/x-python",
   "name": "python",
   "nbconvert_exporter": "python",
   "pygments_lexer": "ipython3",
   "version": "3.10.9"
  }
 },
 "nbformat": 4,
 "nbformat_minor": 5
}
